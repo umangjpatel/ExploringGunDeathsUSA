{
 "cells": [
  {
   "cell_type": "code",
   "execution_count": 1,
   "metadata": {},
   "outputs": [
    {
     "name": "stdout",
     "output_type": "stream",
     "text": [
      "[['', 'year', 'month', 'intent', 'police', 'sex', 'age', 'race', 'hispanic', 'place', 'education'], ['1', '2012', '01', 'Suicide', '0', 'M', '34', 'Asian/Pacific Islander', '100', 'Home', '4'], ['2', '2012', '01', 'Suicide', '0', 'F', '21', 'White', '100', 'Street', '3'], ['3', '2012', '01', 'Suicide', '0', 'M', '60', 'White', '100', 'Other specified', '4'], ['4', '2012', '02', 'Suicide', '0', 'M', '64', 'White', '100', 'Home', '4']]\n"
     ]
    }
   ],
   "source": [
    "import csv\n",
    "data = list(csv.reader(open(\"guns.csv\")))\n",
    "print(data[:5])"
   ]
  },
  {
   "cell_type": "code",
   "execution_count": 2,
   "metadata": {},
   "outputs": [
    {
     "name": "stdout",
     "output_type": "stream",
     "text": [
      "['', 'year', 'month', 'intent', 'police', 'sex', 'age', 'race', 'hispanic', 'place', 'education']\n",
      "[['1', '2012', '01', 'Suicide', '0', 'M', '34', 'Asian/Pacific Islander', '100', 'Home', '4'], ['2', '2012', '01', 'Suicide', '0', 'F', '21', 'White', '100', 'Street', '3'], ['3', '2012', '01', 'Suicide', '0', 'M', '60', 'White', '100', 'Other specified', '4'], ['4', '2012', '02', 'Suicide', '0', 'M', '64', 'White', '100', 'Home', '4'], ['5', '2012', '02', 'Suicide', '0', 'M', '31', 'White', '100', 'Other specified', '2']]\n"
     ]
    }
   ],
   "source": [
    "headers = data[0]\n",
    "data = data[1:]\n",
    "print(headers)\n",
    "print(data[:5])"
   ]
  },
  {
   "cell_type": "code",
   "execution_count": 5,
   "metadata": {},
   "outputs": [
    {
     "name": "stdout",
     "output_type": "stream",
     "text": [
      "{'2014': 33599, '2013': 33636, '2012': 33563}\n"
     ]
    }
   ],
   "source": [
    "years = [x[1] for x in data]\n",
    "year_counts = {}\n",
    "for year in years:\n",
    "    if year not in year_counts:\n",
    "        year_counts[year] = 1\n",
    "    else:\n",
    "        year_counts[year] += 1\n",
    "print(year_counts)"
   ]
  },
  {
   "cell_type": "code",
   "execution_count": 13,
   "metadata": {},
   "outputs": [
    {
     "name": "stdout",
     "output_type": "stream",
     "text": [
      "{datetime.datetime(2013, 3, 1, 0, 0): 2862, datetime.datetime(2013, 4, 1, 0, 0): 2798, datetime.datetime(2012, 5, 1, 0, 0): 2999, datetime.datetime(2014, 5, 1, 0, 0): 2864, datetime.datetime(2012, 6, 1, 0, 0): 2826, datetime.datetime(2013, 12, 1, 0, 0): 2765, datetime.datetime(2012, 9, 1, 0, 0): 2852, datetime.datetime(2012, 10, 1, 0, 0): 2733, datetime.datetime(2012, 4, 1, 0, 0): 2795, datetime.datetime(2014, 8, 1, 0, 0): 2970, datetime.datetime(2012, 11, 1, 0, 0): 2729, datetime.datetime(2014, 9, 1, 0, 0): 2914, datetime.datetime(2014, 4, 1, 0, 0): 2862, datetime.datetime(2013, 8, 1, 0, 0): 2859, datetime.datetime(2014, 1, 1, 0, 0): 2651, datetime.datetime(2014, 7, 1, 0, 0): 2884, datetime.datetime(2012, 12, 1, 0, 0): 2791, datetime.datetime(2014, 10, 1, 0, 0): 2865, datetime.datetime(2012, 2, 1, 0, 0): 2357, datetime.datetime(2013, 2, 1, 0, 0): 2375, datetime.datetime(2012, 3, 1, 0, 0): 2743, datetime.datetime(2014, 3, 1, 0, 0): 2684, datetime.datetime(2014, 12, 1, 0, 0): 2857, datetime.datetime(2014, 6, 1, 0, 0): 2931, datetime.datetime(2014, 2, 1, 0, 0): 2361, datetime.datetime(2013, 5, 1, 0, 0): 2806, datetime.datetime(2012, 1, 1, 0, 0): 2758, datetime.datetime(2013, 11, 1, 0, 0): 2758, datetime.datetime(2013, 1, 1, 0, 0): 2864, datetime.datetime(2013, 9, 1, 0, 0): 2742, datetime.datetime(2013, 10, 1, 0, 0): 2808, datetime.datetime(2012, 8, 1, 0, 0): 2954, datetime.datetime(2014, 11, 1, 0, 0): 2756, datetime.datetime(2013, 7, 1, 0, 0): 3079, datetime.datetime(2012, 7, 1, 0, 0): 3026, datetime.datetime(2013, 6, 1, 0, 0): 2920}\n"
     ]
    }
   ],
   "source": [
    "import datetime\n",
    "dates = [datetime.datetime(year=int(x[1]), month=int(x[2]), day=1) for x in data]\n",
    "date_counts = {}\n",
    "for x in dates:\n",
    "    if x not in date_counts:\n",
    "        date_counts[x] = 1\n",
    "    else:\n",
    "        date_counts[x] += 1\n",
    "print(date_counts)"
   ]
  },
  {
   "cell_type": "code",
   "execution_count": 15,
   "metadata": {},
   "outputs": [
    {
     "name": "stdout",
     "output_type": "stream",
     "text": [
      "{'M': 86349, 'F': 14449}\n",
      "{'Black': 23296, 'Native American/Native Alaskan': 917, 'Hispanic': 9022, 'Asian/Pacific Islander': 1326, 'White': 66237}\n"
     ]
    }
   ],
   "source": [
    "sex_list = [x[5] for x in data]\n",
    "sex_counts = {}\n",
    "for sex in sex_list:\n",
    "    if sex not in sex_counts:\n",
    "        sex_counts[sex] = 1\n",
    "    else:\n",
    "        sex_counts[sex] += 1\n",
    "\n",
    "race_list = [x[-4] for x in data]\n",
    "race_counts = {}\n",
    "for race in race_list:\n",
    "    if race not in race_counts:\n",
    "        race_counts[race] = 1\n",
    "    else:\n",
    "        race_counts[race] += 1\n",
    "print(sex_counts)\n",
    "print(race_counts)"
   ]
  },
  {
   "cell_type": "code",
   "execution_count": 35,
   "metadata": {},
   "outputs": [
    {
     "name": "stdout",
     "output_type": "stream",
     "text": [
      "Race Alone - White\n",
      "Race Alone - Hispanic\n",
      "Race Alone - Black or African American\n",
      "Race Alone - American Indian and Alaska Native\n",
      "Race Alone - Asian\n",
      "Race Alone - Native Hawaiian and Other Pacific Islander\n",
      "197318956\n",
      "44618105\n",
      "40250635\n",
      "3739506\n",
      "15159516\n",
      "674625\n"
     ]
    }
   ],
   "source": [
    "census = list(csv.reader(open(\"census.csv\")))\n",
    "for c in census:\n",
    "    c = c[-7:-1]\n",
    "    for x in c:\n",
    "        print(x)"
   ]
  },
  {
   "cell_type": "code",
   "execution_count": 36,
   "metadata": {},
   "outputs": [
    {
     "name": "stdout",
     "output_type": "stream",
     "text": [
      "{'Native American/Native Alaskan': 24.521955573811088, 'Hispanic': 20.220491210910907, 'Asian/Pacific Islander': 8.374309664161762, 'Black': 57.8773477735196, 'White': 33.56849303419181}\n"
     ]
    }
   ],
   "source": [
    "mapping = {\n",
    "    'Asian/Pacific Islander' : 15834141,\n",
    "    'Black' : 40250635,\n",
    "    'Native American/Native Alaskan' : 3739506,\n",
    "    'Hispanic' : 44618105,\n",
    "    'White' : 197318956 \n",
    "}\n",
    "race_per_hundredk = {}\n",
    "for race_count_key in race_counts:\n",
    "    race_per_hundredk[race_count_key] = (race_counts[race_count_key] / mapping[race_count_key]) * 100000\n",
    "print(race_per_hundredk)"
   ]
  },
  {
   "cell_type": "code",
   "execution_count": 38,
   "metadata": {},
   "outputs": [
    {
     "name": "stdout",
     "output_type": "stream",
     "text": [
      "{'Black': 19510, 'Hispanic': 5634, 'Asian/Pacific Islander': 559, 'White': 9147, 'Native American/Native Alaskan': 326}\n"
     ]
    }
   ],
   "source": [
    "intents = [x[3] for x in data]\n",
    "races = [x[-4] for x in data]\n",
    "homicide_race_counts = {}\n",
    "for i, race in enumerate(races):\n",
    "    if intents[i] == 'Homicide':\n",
    "        if race not in homicide_race_counts:\n",
    "            homicide_race_counts[race] = 1\n",
    "        else:\n",
    "            homicide_race_counts[race] += 1\n",
    "print(homicide_race_counts)"
   ]
  },
  {
   "cell_type": "code",
   "execution_count": 39,
   "metadata": {},
   "outputs": [
    {
     "name": "stdout",
     "output_type": "stream",
     "text": [
      "{'Black': 48.471284987180944, 'Hispanic': 12.627161104219914, 'Asian/Pacific Islander': 3.530346230970155, 'White': 4.6356417981453335, 'Native American/Native Alaskan': 8.717729026240365}\n"
     ]
    }
   ],
   "source": [
    "for key in homicide_race_counts:\n",
    "    homicide_race_counts[key] = (homicide_race_counts[key] / mapping[key]) * 100000\n",
    "print(homicide_race_counts)"
   ]
  }
 ],
 "metadata": {
  "kernelspec": {
   "display_name": "Python 3",
   "language": "python",
   "name": "python3"
  },
  "language_info": {
   "codemirror_mode": {
    "name": "ipython",
    "version": 3
   },
   "file_extension": ".py",
   "mimetype": "text/x-python",
   "name": "python",
   "nbconvert_exporter": "python",
   "pygments_lexer": "ipython3",
   "version": "3.7.1"
  }
 },
 "nbformat": 4,
 "nbformat_minor": 1
}
